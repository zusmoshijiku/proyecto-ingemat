{
 "cells": [
  {
   "attachments": {},
   "cell_type": "markdown",
   "metadata": {},
   "source": [
    "## Proyecto: Aprendizaje Automatizado\n",
    "\n",
    "### Exploración de la metodología\n",
    "\n",
    "**Ejercicio 1.** Probar tutorial de https://scipy-lectures.org/packages/scikit-learn/auto_examples/plot_digits_simple_classif.html\n",
    "\n",
    "**Ejercicio 2.** Usar *reducción de dimensionalidad*, como PCA y explicarlo\n",
    "\n",
    "**Ejercicio 3.** Usar otros métodos de reducción de dimensionalidad y comparar"
   ]
  },
  {
   "cell_type": "code",
   "execution_count": null,
   "metadata": {},
   "outputs": [],
   "source": []
  },
  {
   "attachments": {},
   "cell_type": "markdown",
   "metadata": {},
   "source": [
    "### Clasificación de números\n",
    "\n",
    "**Ejercicio 4.** Implementar clasificadores para la base de datos y explicar. Usar matriz de confusión y esas cosas. Usar http://yann.lecun.com/exdb/mnist/"
   ]
  },
  {
   "cell_type": "code",
   "execution_count": null,
   "metadata": {},
   "outputs": [],
   "source": []
  },
  {
   "attachments": {},
   "cell_type": "markdown",
   "metadata": {},
   "source": [
    "### Desbalanceo de letras\n",
    "\n",
    "(ver https://www.nist.gov/itl/products-and-services/emnist-dataset , https://arxiv.org/pdf/1702.05373v1.pdf)\n",
    "\n",
    "**Ejercicio 5.** Explicar el impacto del desbalance en el desempeño de los clasificadores. Investigar formas para mejorar los algorítmos."
   ]
  },
  {
   "cell_type": "code",
   "execution_count": null,
   "metadata": {},
   "outputs": [],
   "source": []
  },
  {
   "attachments": {},
   "cell_type": "markdown",
   "metadata": {},
   "source": [
    "### Extensiones\n",
    "\n",
    "Ejercicios extra para extender\n",
    "\n",
    "**Ejercicio 6.** Crear datos propios a mano\n",
    "\n",
    "**Ejercicio 7.** Buscar otras bases de datos"
   ]
  },
  {
   "cell_type": "code",
   "execution_count": null,
   "metadata": {},
   "outputs": [],
   "source": []
  }
 ],
 "metadata": {
  "language_info": {
   "name": "python"
  },
  "orig_nbformat": 4
 },
 "nbformat": 4,
 "nbformat_minor": 2
}
