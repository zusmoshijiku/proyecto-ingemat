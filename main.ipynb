{
 "cells": [
  {
   "attachments": {},
   "cell_type": "markdown",
   "metadata": {},
   "source": [
    "## Proyecto: Aprendizaje Automatizado\n",
    "\n",
    "### Exploración de la metodología\n",
    "\n",
    "**Ejercicio 1.** Probar tutorial de https://scipy-lectures.org/packages/scikit-learn/auto_examples/plot_digits_simple_classif.html\n",
    "\n",
    "**Ejercicio 2.** Usar *reducción de dimensionalidad*, como PCA y explicarlo\n",
    "\n",
    "**Ejercicio 3.** Usar otros métodos de reducción de dimensionalidad y comparar"
   ]
  },
  {
   "attachments": {},
   "cell_type": "markdown",
   "metadata": {},
   "source": [
    "otros métodos:\n",
    "\n",
    "    - random projection (sklearn.random_projection)\n",
    "    - feature agglomeration (sklearn.cluster.featureAgglomeration)"
   ]
  },
  {
   "cell_type": "code",
   "execution_count": null,
   "metadata": {},
   "outputs": [],
   "source": []
  },
  {
   "attachments": {},
   "cell_type": "markdown",
   "metadata": {},
   "source": [
    "### Clasificación de números\n",
    "\n",
    "**Ejercicio 4.** Implementar clasificadores para la base de datos y explicar. Usar matriz de confusión y esas cosas. Usar http://yann.lecun.com/exdb/mnist/\n",
    "\n",
    "- están listos los datos, falta implementar"
   ]
  },
  {
   "cell_type": "code",
   "execution_count": null,
   "metadata": {},
   "outputs": [],
   "source": []
  },
  {
   "attachments": {},
   "cell_type": "markdown",
   "metadata": {},
   "source": [
    "### Desbalanceo de letras\n",
    "\n",
    "(ver https://www.nist.gov/itl/products-and-services/emnist-dataset , https://arxiv.org/pdf/1702.05373v1.pdf)\n",
    "\n",
    "**Ejercicio 5.** Explicar el impacto del desbalance en el desempeño de los clasificadores. Investigar formas para mejorar los algorítmos.\n",
    "\n",
    "- leer el paper\n",
    "- probar dataset balanceado y sin balancear\n"
   ]
  },
  {
   "cell_type": "code",
   "execution_count": 2,
   "metadata": {},
   "outputs": [],
   "source": [
    "import gzip\n",
    "import numpy as np"
   ]
  },
  {
   "cell_type": "code",
   "execution_count": null,
   "metadata": {},
   "outputs": [],
   "source": [
    "# Balanced\n",
    "\n",
    "with gzip.open('./gzip/emnist-balanced-test-images-idx3-ubyte.gz', 'rb') as f:\n",
    "    bal_test_im = f.read()\n",
    "    \n",
    "with gzip.open('./gzip/emnist-balanced-test-labels-idx1-ubyte.gz', 'rb') as f:\n",
    "    bal_test_lb = f.read()\n",
    "    \n",
    "with gzip.open('./gzip/emnist-balanced-train-images-idx3-ubyte.gz', 'rb') as f:\n",
    "    bal_train_im = f.read()\n",
    "    \n",
    "with gzip.open('./gzip/emnist-balanced-train-labels-idx1-ubyte.gz', 'rb') as f:\n",
    "    bal_train_lb = f.read()\n",
    "\n",
    "# byClass\n",
    "\n",
    "with gzip.open('./gzip/emnist-byclass-test-images-idx3-ubyte.gz', 'rb') as f:\n",
    "    class_test_im = f.read()\n",
    "    \n",
    "with gzip.open('./gzip/emnist-byclass-test-labels-idx1-ubyte.gz', 'rb') as f:\n",
    "    class_test_lb = f.read()\n",
    "    \n",
    "with gzip.open('./gzip/emnist-byclass-train-images-idx3-ubyte.gz', 'rb') as f:\n",
    "    class_train_im = f.read()\n",
    "    \n",
    "with gzip.open('./gzip/emnist-byclass-train-labels-idx1-ubyte.gz', 'rb') as f:\n",
    "    class_train_lb = f.read()\n",
    "\n",
    "# byMerge\n",
    "\n",
    "with gzip.open('./gzip/emnist-bymerge-test-images-idx3-ubyte.gz', 'rb') as f:\n",
    "    merge_test_im = f.read()\n",
    "    \n",
    "with gzip.open('./gzip/emnist-bymerge-test-labels-idx1-ubyte.gz', 'rb') as f:\n",
    "    merge_test_lb = f.read()\n",
    "    \n",
    "with gzip.open('./gzip/emnist-bymerge-train-images-idx3-ubyte.gz', 'rb') as f:\n",
    "    merge_train_im = f.read()\n",
    "    \n",
    "with gzip.open('./gzip/emnist-bymerge-train-labels-idx1-ubyte.gz', 'rb') as f:\n",
    "    merge_train_lb = f.read()"
   ]
  },
  {
   "attachments": {},
   "cell_type": "markdown",
   "metadata": {},
   "source": [
    "### Extensiones\n",
    "\n",
    "Ejercicios extra para extender\n",
    "\n",
    "**Ejercicio 6.** Crear datos propios a mano\n",
    "\n",
    "**Ejercicio 7.** Buscar otras bases de datos"
   ]
  },
  {
   "cell_type": "code",
   "execution_count": null,
   "metadata": {},
   "outputs": [],
   "source": []
  }
 ],
 "metadata": {
  "kernelspec": {
   "display_name": "Python 3",
   "language": "python",
   "name": "python3"
  },
  "language_info": {
   "codemirror_mode": {
    "name": "ipython",
    "version": 3
   },
   "file_extension": ".py",
   "mimetype": "text/x-python",
   "name": "python",
   "nbconvert_exporter": "python",
   "pygments_lexer": "ipython3",
   "version": "3.8.10"
  },
  "orig_nbformat": 4
 },
 "nbformat": 4,
 "nbformat_minor": 2
}
